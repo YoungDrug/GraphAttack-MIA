{
 "cells": [
  {
   "cell_type": "markdown",
   "metadata": {},
   "source": [
    "# Notebook for preparing and saving MNIST graphs"
   ]
  },
  {
   "cell_type": "code",
   "execution_count": 1,
   "metadata": {},
   "outputs": [],
   "source": [
    "import numpy as np\n",
    "import torch\n",
    "import pickle\n",
    "import time\n",
    "import os\n",
    "%matplotlib inline\n",
    "import matplotlib.pyplot as plt\n"
   ]
  },
  {
   "cell_type": "markdown",
   "metadata": {},
   "source": [
    "# Download MNIST dataset"
   ]
  },
  {
   "cell_type": "code",
   "execution_count": 2,
   "metadata": {},
   "outputs": [
    {
     "name": "stdout",
     "output_type": "stream",
     "text": [
      "downloading..\n",
      "  % Total    % Received % Xferd  Average Speed   Time    Time     Time  Current\n",
      "                                 Dload  Upload   Total   Spent    Left  Speed\n",
      "  0     0    0     0    0     0      0      0 --:--:-- --:--:-- --:--:--     0\n",
      "  0     0    0     0    0     0      0      0 --:--:--  0:00:01 --:--:--     0\n",
      "100  324M  100  324M    0     0  7024k      0  0:00:47  0:00:47 --:--:-- 9629k     0  9647k      0  0:00:34  0:00:28  0:00:06 4353k\n",
      "Archive:  superpixels.zip\n",
      " extracting: ../superpixels/cifar10_150sp_test.pkl  \n",
      " extracting: ../superpixels/cifar10_150sp_train.pkl  \n",
      " extracting: ../superpixels/mnist_75sp_test.pkl  \n",
      " extracting: ../superpixels/mnist_75sp_train.pkl  \n"
     ]
    }
   ],
   "source": [
    "if not os.path.isfile('superpixels.zip'):\n",
    "    print('downloading..')\n",
    "    !curl https://www.dropbox.com/s/y2qwa77a0fxem47/superpixels.zip?dl=1 -o superpixels.zip -J -L -k\n",
    "    !unzip superpixels.zip -d ../\n",
    "    # !tar -xvf superpixels.zip -C ../\n",
    "else:\n",
    "    print('File already downloaded')"
   ]
  },
  {
   "cell_type": "markdown",
   "metadata": {},
   "source": [
    "# Convert to DGL format and save with pickle"
   ]
  },
  {
   "cell_type": "code",
   "execution_count": 3,
   "metadata": {},
   "outputs": [
    {
     "name": "stdout",
     "output_type": "stream",
     "text": [
      "/Users/xbresson/Documents/Dropbox/06_NTU_2017_now/03_my_codes/34_benchmark20/GITHUB_benchmark_project/benchmarking-gnn\n"
     ]
    }
   ],
   "source": [
    "import os\n",
    "os.chdir('../../') # go to root folder of the project\n",
    "print(os.getcwd())\n"
   ]
  },
  {
   "cell_type": "code",
   "execution_count": 4,
   "metadata": {},
   "outputs": [],
   "source": [
    "import pickle\n",
    "\n",
    "%load_ext autoreload\n",
    "%autoreload 2\n",
    "\n",
    "from data.SPS import SuperPixDatasetDGL \n",
    "\n",
    "from data.data import LoadData\n",
    "from torch.utils.data import DataLoader\n",
    "from data.SPS import SuperPixDataset\n"
   ]
  },
  {
   "cell_type": "code",
   "execution_count": 5,
   "metadata": {},
   "outputs": [
    {
     "name": "stdout",
     "output_type": "stream",
     "text": [
      "Adj matrix defined from super-pixel locations (only)\n",
      "preparing 10000 graphs for the TEST set...\n",
      "preparing 60000 graphs for the TRAIN set...\n",
      "[I] Data load time: 361.0098s\n",
      "Time (sec): 361.0104629993439\n"
     ]
    }
   ],
   "source": [
    "start = time.time()\n",
    "\n",
    "DATASET_NAME = 'MNIST'\n",
    "dataset = SuperPixDatasetDGL(DATASET_NAME) \n",
    "\n",
    "print('Time (sec):',time.time() - start) # 356s=6min\n"
   ]
  },
  {
   "cell_type": "code",
   "execution_count": 6,
   "metadata": {},
   "outputs": [
    {
     "data": {
      "image/png": "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