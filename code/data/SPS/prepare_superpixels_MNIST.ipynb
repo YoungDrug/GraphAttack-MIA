{
 "cells": [
  {
   "cell_type": "markdown",
   "metadata": {},
   "source": [
    "# Notebook for preparing and saving MNIST graphs"
   ]
  },
  {
   "cell_type": "code",
   "execution_count": 1,
   "metadata": {},
   "outputs": [],
   "source": [
    "import numpy as np\n",
    "import torch\n",
    "import pickle\n",
    "import time\n",
    "import os\n",
    "%matplotlib inline\n",
    "import matplotlib.pyplot as plt\n"
   ]
  },
  {
   "cell_type": "markdown",
   "metadata": {},
   "source": [
    "# Download MNIST dataset"
   ]
  },
  {
   "cell_type": "code",
   "execution_count": 2,
   "metadata": {},
   "outputs": [
    {
     "name": "stdout",
     "output_type": "stream",
     "text": [
      "downloading..\n",
      "  % Total    % Received % Xferd  Average Speed   Time    Time     Time  Current\n",
      "                                 Dload  Upload   Total   Spent    Left  Speed\n",
      "  0     0    0     0    0     0      0      0 --:--:-- --:--:-- --:--:--     0\n",
      "  0     0    0     0    0     0      0      0 --:--:--  0:00:01 --:--:--     0\n",
      "100  324M  100  324M    0     0  7024k      0  0:00:47  0:00:47 --:--:-- 9629k     0  9647k      0  0:00:34  0:00:28  0:00:06 4353k\n",
      "Archive:  superpixels.zip\n",
      " extracting: ../superpixels/cifar10_150sp_test.pkl  \n",
      " extracting: ../superpixels/cifar10_150sp_train.pkl  \n",
      " extracting: ../superpixels/mnist_75sp_test.pkl  \n",
      " extracting: ../superpixels/mnist_75sp_train.pkl  \n"
     ]
    }
   ],
   "source": [
    "if not os.path.isfile('superpixels.zip'):\n",
    "    print('downloading..')\n",
    "    !curl https://www.dropbox.com/s/y2qwa77a0fxem47/superpixels.zip?dl=1 -o superpixels.zip -J -L -k\n",
    "    !unzip superpixels.zip -d ../\n",
    "    # !tar -xvf superpixels.zip -C ../\n",
    "else:\n",
    "    print('File already downloaded')"
   ]
  },
  {
   "cell_type": "markdown",
   "metadata": {},
   "source": [
    "# Convert to DGL format and save with pickle"
   ]
  },
  {
   "cell_type": "code",
   "execution_count": 3,
   "metadata": {},
   "outputs": [
    {
     "name": "stdout",
     "output_type": "stream",
     "text": [
      "/Users/xbresson/Documents/Dropbox/06_NTU_2017_now/03_my_codes/34_benchmark20/GITHUB_benchmark_project/benchmarking-gnn\n"
     ]
    }
   ],
   "source": [
    "import os\n",
    "os.chdir('../../') # go to root folder of the project\n",
    "print(os.getcwd())\n"
   ]
  },
  {
   "cell_type": "code",
   "execution_count": 4,
   "metadata": {},
   "outputs": [],
   "source": [
    "import pickle\n",
    "\n",
    "%load_ext autoreload\n",
    "%autoreload 2\n",
    "\n",
    "from data.SPS import SuperPixDatasetDGL \n",
    "\n",
    "from data.data import LoadData\n",
    "from torch.utils.data import DataLoader\n",
    "from data.SPS import SuperPixDataset\n"
   ]
  },
  {
   "cell_type": "code",
   "execution_count": 5,
   "metadata": {},
   "outputs": [
    {
     "name": "stdout",
     "output_type": "stream",
     "text": [
      "Adj matrix defined from super-pixel locations (only)\n",
      "preparing 10000 graphs for the TEST set...\n",
      "preparing 60000 graphs for the TRAIN set...\n",
      "[I] Data load time: 361.0098s\n",
      "Time (sec): 361.0104629993439\n"
     ]
    }
   ],
   "source": [
    "start = time.time()\n",
    "\n",
    "DATASET_NAME = 'MNIST'\n",
    "dataset = SuperPixDatasetDGL(DATASET_NAME) \n",
    "\n",
    "print('Time (sec):',time.time() - start) # 356s=6min\n"
   ]
  },
  {
   "cell_type": "code",
   "execution_count": 6,
   "metadata": {},
   "outputs": [
    {
     "data": {
      "image/png": "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\n",
      "text/plain": [
       "<Figure size 432x288 with 1 Axes>"
      ]
     },
     "metadata": {
      "needs_background": "light"
     },
     "output_type": "display_data"
    },
    {
     "name": "stdout",
     "output_type": "stream",
     "text": [
      "nb/min/max : 55000 40 75\n"
     ]
    },
    {
     "data": {
      "image/png": "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\n",
      "text/plain": [
       "<Figure size 432x288 with 1 Axes>"
      ]
     },
     "metadata": {
      "needs_background": "light"
     },
     "output_type": "display_data"
    },
    {
     "name": "stdout",
     "output_type": "stream",
     "text": [
      "nb/min/max : 5000 42 75\n"
     ]
    },
    {
     "data": {
      "image/png": "iVBORw0KGgoAAAANSUhEUgAAAX0